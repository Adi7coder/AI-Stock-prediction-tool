{
 "cells": [
  {
   "cell_type": "code",
   "execution_count": 4,
   "id": "c1dc1e73",
   "metadata": {},
   "outputs": [
    {
     "name": "stdout",
     "output_type": "stream",
     "text": [
      "            publishedAt                                              title  \\\n",
      "0  2025-06-09T18:09:03Z  Apple’s new Games app lets you challenge your ...   \n",
      "1  2025-06-09T19:04:31Z      Apple WWDC 2025: the 13 biggest announcements   \n",
      "2  2025-06-09T21:30:43Z  iOS 26’s new ‘adaptive power’ mode dials back ...   \n",
      "3  2025-07-01T18:36:43Z  The MLS Season Pass is 50 percent off ahead of...   \n",
      "4  2025-06-04T21:53:46Z   Apple ordered to keep web links in the App Store   \n",
      "\n",
      "                                         description  \n",
      "0  Apple is launching a new app that acts as a ce...  \n",
      "1  Apple packed a bunch of major updates into its...  \n",
      "2  Apple is working on a new “adaptive power” fea...  \n",
      "3  Major League Soccer (MLS) is now nearly halfwa...  \n",
      "4  Apple will have to continue allowing web links...  \n"
     ]
    }
   ],
   "source": [
    "import pandas as pd\n",
    "import requests\n",
    "\n",
    "api_key = \"57dcefdd1a1948c38bb92e0273450b8a\"\n",
    "query = \"Apple\"\n",
    "url = f\"https://newsapi.org/v2/everything?q={query}&apiKey={api_key}\"\n",
    "\n",
    "response = requests.get(url)\n",
    "data = response.json()\n",
    "\n",
    "# build DataFrame from articles\n",
    "articles = data.get(\"articles\", [])\n",
    "df = pd.DataFrame([\n",
    "    {\"publishedAt\": a[\"publishedAt\"], \"title\": a[\"title\"], \"description\": a[\"description\"]}\n",
    "    for a in articles\n",
    "])\n",
    "\n",
    "# confirm\n",
    "print(df.head())\n"
   ]
  },
  {
   "cell_type": "code",
   "execution_count": 5,
   "id": "19e895b8",
   "metadata": {},
   "outputs": [
    {
     "name": "stderr",
     "output_type": "stream",
     "text": [
      "Device set to use cpu\n"
     ]
    },
    {
     "name": "stdout",
     "output_type": "stream",
     "text": [
      "            publishedAt                                              title  \\\n",
      "0  2025-06-09T18:09:03Z  Apple’s new Games app lets you challenge your ...   \n",
      "1  2025-06-09T19:04:31Z      Apple WWDC 2025: the 13 biggest announcements   \n",
      "2  2025-06-09T21:30:43Z  iOS 26’s new ‘adaptive power’ mode dials back ...   \n",
      "3  2025-07-01T18:36:43Z  The MLS Season Pass is 50 percent off ahead of...   \n",
      "4  2025-06-04T21:53:46Z   Apple ordered to keep web links in the App Store   \n",
      "\n",
      "                                         description sentiment_label  \\\n",
      "0  Apple is launching a new app that acts as a ce...         LABEL_2   \n",
      "1  Apple packed a bunch of major updates into its...         LABEL_2   \n",
      "2  Apple is working on a new “adaptive power” fea...         LABEL_1   \n",
      "3  Major League Soccer (MLS) is now nearly halfwa...         LABEL_1   \n",
      "4  Apple will have to continue allowing web links...         LABEL_1   \n",
      "\n",
      "   sentiment_score  \n",
      "0         0.882332  \n",
      "1         0.884656  \n",
      "2         0.695163  \n",
      "3         0.520473  \n",
      "4         0.596141  \n"
     ]
    }
   ],
   "source": [
    "import torch   \n",
    "from transformers import pipeline\n",
    "\n",
    "sentiment_model = pipeline(\"sentiment-analysis\", model=\"cardiffnlp/twitter-roberta-base-sentiment\", framework=\"pt\")\n",
    "\n",
    "sentiments = []\n",
    "for text in df[\"title\"]:\n",
    "    result = sentiment_model(text)[0]\n",
    "    sentiments.append(result)\n",
    "\n",
    "df[\"sentiment_label\"] = [r['label'] for r in sentiments]\n",
    "df[\"sentiment_score\"] = [r['score'] for r in sentiments]\n",
    "\n",
    "print(df.head())\n"
   ]
  },
  {
   "cell_type": "code",
   "execution_count": 6,
   "id": "ba2bb10d",
   "metadata": {},
   "outputs": [],
   "source": [
    "df.to_csv(\"../data/news_sentiment.csv\", index=False)\n"
   ]
  },
  {
   "cell_type": "code",
   "execution_count": null,
   "id": "b16e00bc",
   "metadata": {},
   "outputs": [
    {
     "name": "stdout",
     "output_type": "stream",
     "text": [
      "         Date      Close\n",
      "0        Date        NaN\n",
      "1  2015-01-02  24.288574\n",
      "2  2015-01-05  23.604332\n",
      "3  2015-01-06  23.606558\n",
      "4  2015-01-07  23.937569\n"
     ]
    },
    {
     "name": "stderr",
     "output_type": "stream",
     "text": [
      "C:\\Users\\adity\\AppData\\Local\\Temp\\ipykernel_30968\\2081962334.py:1: UserWarning: Could not infer format, so each element will be parsed individually, falling back to `dateutil`. To ensure parsing is consistent and as-expected, please specify a format.\n",
      "  stock_df = pd.read_csv(\"../data/AAPL.csv\", skiprows=2, names=[\"Date\", \"Close\"], parse_dates=[\"Date\"])\n"
     ]
    }
   ],
   "source": []
  }
 ],
 "metadata": {
  "kernelspec": {
   "display_name": "venv",
   "language": "python",
   "name": "python3"
  },
  "language_info": {
   "codemirror_mode": {
    "name": "ipython",
    "version": 3
   },
   "file_extension": ".py",
   "mimetype": "text/x-python",
   "name": "python",
   "nbconvert_exporter": "python",
   "pygments_lexer": "ipython3",
   "version": "3.10.0"
  }
 },
 "nbformat": 4,
 "nbformat_minor": 5
}
